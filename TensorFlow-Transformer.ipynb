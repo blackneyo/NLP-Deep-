{
 "cells": [
  {
   "cell_type": "code",
   "execution_count": 2,
   "id": "4a80c636",
   "metadata": {},
   "outputs": [],
   "source": [
    "import numpy as np\n",
    "import matplotlib.pyplot as plt\n",
    "import tensorflow as tf"
   ]
  },
  {
   "cell_type": "code",
   "execution_count": 3,
   "id": "145599ec",
   "metadata": {},
   "outputs": [
    {
     "data": {
      "text/plain": [
       "'2.8.0'"
      ]
     },
     "execution_count": 3,
     "metadata": {},
     "output_type": "execute_result"
    }
   ],
   "source": [
    "tf.__version__"
   ]
  },
  {
   "cell_type": "code",
   "execution_count": 4,
   "id": "d11c5550",
   "metadata": {},
   "outputs": [],
   "source": [
    "# 최종 버전\n",
    "class PositionalEncoding(tf.keras.layers.Layer):\n",
    "    def __init__(self, position, d_model):\n",
    "        super(PositionalEncoding, self).__init__()\n",
    "        self.pos_encoding = self.positional_encoding(position, d_model)\n",
    "        \n",
    "    def get_angles(self, position, i, d_model):\n",
    "        angles = 1 / tf.pow(10000, (2 * (i // 2)) / tf.cast(d_model, tf.float32))\n",
    "        return position * angles\n",
    "    \n",
    "    def positional_encoding(self, position, d_model):\n",
    "        angle_rads = self.get_angles(\n",
    "            position=tf.range(position, dtype=tf.float32)[:, tf.newaxis],\n",
    "            i=tf.range(d_model, dtype=tf.float32)[tf.newaxis, :],\n",
    "            d_model=d_model)\n",
    "        \n",
    "        #배열의 짝수 인덱스(2i) 에는 사인 함수 적용\n",
    "        sines = tf.math.sin(angle_rads[:, 0::2])\n",
    "        \n",
    "        #배열의 홀수 인덱스(2i+1)에는 코사인 함수 적용\n",
    "        cosines = tf.math.cos(angle_rads[:, 1::2])\n",
    "        \n",
    "        angle_rads = np.zeros(angle_rads.shape)\n",
    "        angle_rads[:, 0::2] = sines\n",
    "        angle_rads[:, 1::2] = cosines\n",
    "        pos_encoding = tf.constant(angle_rads)\n",
    "        pos_encoding = pos_encoding[tf.newaxis, ...]\n",
    "        \n",
    "        print(pos_encoding.shape)\n",
    "        return tf.cast(pos_encoding, tf.float32)\n",
    "    \n",
    "    def call(self, inputs):\n",
    "        return inputs + self.pos_encoding[:, :tf.shape(inputs)[1], :]"
   ]
  },
  {
   "cell_type": "code",
   "execution_count": 6,
   "id": "1931c8f1",
   "metadata": {},
   "outputs": [
    {
     "name": "stdout",
     "output_type": "stream",
     "text": [
      "(1, 50, 128)\n"
     ]
    },
    {
     "data": {
      "image/png": "[encoded data removed]",
      "text/plain": [
       "<Figure size 432x288 with 2 Axes>"
      ]
     },
     "metadata": {
      "needs_background": "light"
     },
     "output_type": "display_data"
    }
   ],
   "source": [
    "sample_pos_encoding = PositionalEncoding(50, 128)\n",
    "\n",
    "plt.pcolormesh(sample_pos_encoding.pos_encoding.numpy()[0], cmap='RdBu')\n",
    "plt.xlabel('Depth')\n",
    "plt.xlim((0, 128))\n",
    "plt.ylabel('Position')\n",
    "plt.colorbar()\n",
    "plt.show()"
   ]
  },
  {
   "cell_type": "code",
   "execution_count": 7,
   "id": "eda59904",
   "metadata": {},
   "outputs": [],
   "source": [
    "def scaled_dot_product_attention(query, key, value, mask):\n",
    "    # query 크기 : (batch_size, num_heads, query의 문장 길이, d_model/num_heads)\n",
    "    # key 크기 : (batch_size, num_heads, key의 문장 길이, d_model/num_heads)\n",
    "    # value 크기 : (batch_size, num_heads, value의 문장 길이, d_model/num_heads)\n",
    "    # padding_mask : (batch_size, 1, 1, key문장 길이)\n",
    "    \n",
    "    # Q와 K의 곱 / 어텐션 스코어 행렬\n",
    "    matmul_qk = tf.matmul(query, key, transpose_b=True)\n",
    "    \n",
    "    # 스케일링\n",
    "    # dk의 루트값으로 나눠준다.\n",
    "    depth = tf.cast(tf.shape(key)[-1], tf.float32)\n",
    "    logits = matmul_qk / tf.math.sqrt(depth)\n",
    "    \n",
    "    # 마스킹. 어텐션 스코어 행렬의 마스킹 할 위치에 매우 작은 음수값을 넣는다.\n",
    "    # 매우 작은 값이므로 소프트맥스 함수를 지나면 행렬의 해당 위치의 값은 0이 된다.\n",
    "    if mask is not None:\n",
    "        logits += (mask * -1e9)\n",
    "        \n",
    "    # 소프트맥스 함수는 마지막 차원인 key의 문장 길이 방향으로 수행된다.\n",
    "    # attention weight : (batch_size, num_heads, query 문장 길이, key 문장 길이)\n",
    "    attention_weights = tf.nn.sorfmax(logits, axis=-1)\n",
    "    \n",
    "    # output : (batch_size, num_heads, query의 문장 길이, d_model/num_heads)\n",
    "    output = tf.matmul(attention_weights, value)\n",
    "    \n",
    "    return output, attention_weights"
   ]
  },
  {
   "cell_type": "code",
   "execution_count": 9,
   "id": "91514df9",
   "metadata": {},
   "outputs": [],
   "source": [
    "class MultiHeadAttention(tf.keras.layers.Layer):\n",
    "    \n",
    "    def __init__(self, d_model, num_heads, name=\"multi_head_attention\"):\n",
    "        super(MultiHeadAttention, self).__init__(name=name)\n",
    "        self.num_heads = num_heads\n",
    "        self.d_model = d_model\n",
    "        \n",
    "        assert d_model % self.num_heads == 0\n",
    "        \n",
    "        # d_model을 num_heads 로 나눈 값\n",
    "        # 논문 기준 : 64\n",
    "        self.depth = d_model // self.num_heads == 0\n",
    "        \n",
    "        # WQ, WK, WV 에 해당하는 밀집층 정의\n",
    "        self.query_dense = tf.keras.layers.Dense(units=d_model)\n",
    "        self.key_dense = tf.keras.layers.Dense(units=d_model)\n",
    "        self.value_dense = tf.keras.layers.Dense(units=d_model)\n",
    "        \n",
    "        # WO에 해당하는 밀집층 정의\n",
    "        self.dense = tf.keras.layers.Dense(units=d_model)\n",
    "        \n",
    "        # num_heads 개수만큼 q, k, v를 split 하는 함수\n",
    "        def split_heads(self, inputs, batch_size):\n",
    "            inputs = tf.reshape(\n",
    "                inputs, shape=(batch_size, -1, self.num_heads, self.depth))\n",
    "            return tf.transpose(inputs, perm=[0, 2, 1, 3])\n",
    "        \n",
    "        def call(self, inputs):\n",
    "            query, key, value, mask = inputs['query'], inputs['key'], inputs['value'], inputs['mask']\n",
    "            batch_size = tf.shape(query)[0]\n",
    "            \n",
    "            # 1. WQ, WK, WV에 해당하는 밀집층 지나기\n",
    "            # q : (batch_size, query의 문장 길이, d_model)\n",
    "            # k : (batch_size, key의 문장 길이, d_model)\n",
    "            # v : (batch_size, value의 문장 길이, d_model)\n",
    "            # 참고) 인코더(k, v)-디코더(q) 어텐션에서는 query 길이와 key, value 길이는 다를 수 있다.\n",
    "            query = self.query_dense(query)\n",
    "            key = self.key_dense(key)\n",
    "            value = self.value_dense(value)\n",
    "            \n",
    "            # 2. 헤드 나누기\n",
    "            # q : (batch_size, num_heads, query의 문장 길이, d_model/num_heads)\n",
    "            # k : (batch_size, num_heads, key의 문장 길이, d_model/num_heads)\n",
    "            # v : (batch_size, num_heads, value의 문장 길이, d_model/num_heads)\n",
    "            query = self.split_heads(query, batch_size)\n",
    "            key = self.split_heads(key, batch_size)\n",
    "            value = self.split_heads(value, batch_size)\n",
    "            \n",
    "            # 3. 스케일드 닷 프로둭트 어텐션. 앞서 구현한 함수 사용.\n",
    "            # (batch_size, num_heads, query의 문장 길이, d_model/num_heads)\n",
    "            scaled_attention, _ = scaled_dot_product_attention(query, key, value, mask)\n",
    "            # (batch_size, query의 문장 길이, num_heads, d_model/num_heads)\n",
    "            scaled_attention = tf.transpose(scaled_attention, perm=[0, 2, 1, 3])\n",
    "            \n",
    "            # 4. 헤드 연결(concatenate)하기\n",
    "            # (batch_size, query의 문장 길이, d_model)\n",
    "            concat_attention = tf.reshape(scaled_attention, (batch_size, -1, self.d_model))\n",
    "            \n",
    "            # 5. WO에 해다와는 밀집층 지나기\n",
    "            # (batch_size, query 의 문장 길이, d_model)\n",
    "            outputs = self.dense(concat_attention)\n",
    "            \n",
    "            return outputs"
   ]
  },
  {
   "cell_type": "code",
   "execution_count": 11,
   "id": "dce6d661",
   "metadata": {},
   "outputs": [],
   "source": [
    "def create_padding_mask(x):\n",
    "    mask = tf.cast(tf.math.equal(x, 0), tf.float32)\n",
    "    # (batch_size, 1, 1, key의 문장 길이)\n",
    "    return mask[:, tf.newaxis, tf.newaxis, :]"
   ]
  },
  {
   "cell_type": "code",
   "execution_count": null,
   "id": "29c39669",
   "metadata": {},
   "outputs": [],
   "source": [
    "def encoder_layer(dff, d_model, num_heads, dropout, name=\"encoder_layer\")\n",
    "    inputs = tf.keras.Input(shape=(None, d_model), name='inputs')\n",
    "    \n",
    "    # 인코더는 패딩 마스크 사용\n",
    "    padding_mask = tf.keras.Input(shape=(1, 1, None), name=\"padding_mask\")\n",
    "    \n",
    "    #멀티-헤드 어텐션 (첫번째 서브층 / 셀프 어텐션)\n",
    "    attention = MultiHeadAttention(\n",
    "        d_model, num_heads, name=\"attention\")({\n",
    "        'query': inputs, 'key' : inputs, 'value': inputs, #Q = K = V\n",
    "        'mask' : padding_mask #패딩 마스크 사용\n",
    "    })\n",
    "    # 드롭아웃 + 정규화\n",
    "    attention = tf.keras.layers.Dropout(rate=dropout)(attention)\n",
    "    attention = tf.keras.layers.LayerNormalization(\n",
    "        epsilon = le-6)"
   ]
  }
 ],
 "metadata": {
  "kernelspec": {
   "display_name": "Python 3 (ipykernel)",
   "language": "python",
   "name": "python3"
  },
  "language_info": {
   "codemirror_mode": {
    "name": "ipython",
    "version": 3
   },
   "file_extension": ".py",
   "mimetype": "text/x-python",
   "name": "python",
   "nbconvert_exporter": "python",
   "pygments_lexer": "ipython3",
   "version": "3.8.13"
  }
 },
 "nbformat": 4,
 "nbformat_minor": 5
}
